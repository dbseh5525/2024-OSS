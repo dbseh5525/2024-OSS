{
  "nbformat": 4,
  "nbformat_minor": 0,
  "metadata": {
    "colab": {
      "provenance": [],
      "authorship_tag": "ABX9TyMIWX45AZxa9PNdEoTydD60",
      "include_colab_link": true
    },
    "kernelspec": {
      "name": "python3",
      "display_name": "Python 3"
    },
    "language_info": {
      "name": "python"
    }
  },
  "cells": [
    {
      "cell_type": "markdown",
      "metadata": {
        "id": "view-in-github",
        "colab_type": "text"
      },
      "source": [
        "<a href=\"https://colab.research.google.com/github/dbseh5525/2024-OSS/blob/main/w02_2_control_flow_function.ipynb\" target=\"_parent\"><img src=\"https://colab.research.google.com/assets/colab-badge.svg\" alt=\"Open In Colab\"/></a>"
      ]
    },
    {
      "cell_type": "code",
      "execution_count": 4,
      "metadata": {
        "colab": {
          "base_uri": "https://localhost:8080/"
        },
        "id": "14qYyIIZWktc",
        "outputId": "9d632dae-89c3-4a55-b313-e4893a3883ca"
      },
      "outputs": [
        {
          "output_type": "stream",
          "name": "stdout",
          "text": [
            "짝수\n"
          ]
        }
      ],
      "source": [
        "n = 20\n",
        "if n%2 == 0:\n",
        "  print('짝수')"
      ]
    },
    {
      "cell_type": "code",
      "source": [
        "n = 21\n",
        "if n%2 == 0:\n",
        "  print('짝수')"
      ],
      "metadata": {
        "id": "qM0ll9r0XHXf"
      },
      "execution_count": 5,
      "outputs": []
    },
    {
      "cell_type": "code",
      "source": [
        "age = 18\n",
        "if age >= 20:\n",
        "  print('성인')\n",
        "else:\n",
        "  print('미성년자')"
      ],
      "metadata": {
        "colab": {
          "base_uri": "https://localhost:8080/"
        },
        "id": "WFBCcdLjXe_v",
        "outputId": "ce7fa5a9-55b0-465a-85aa-7e1cb7b8c4f9"
      },
      "execution_count": 6,
      "outputs": [
        {
          "output_type": "stream",
          "name": "stdout",
          "text": [
            "미성년자\n"
          ]
        }
      ]
    },
    {
      "cell_type": "code",
      "source": [
        "age = 21\n",
        "if age >= 20:\n",
        "  print('성인')\n",
        "else:\n",
        "  print('미성년자')"
      ],
      "metadata": {
        "colab": {
          "base_uri": "https://localhost:8080/"
        },
        "id": "hZdDVWMpXjYj",
        "outputId": "d57c7285-2c99-4db5-c819-f6bf7b511e71"
      },
      "execution_count": 7,
      "outputs": [
        {
          "output_type": "stream",
          "name": "stdout",
          "text": [
            "성인\n"
          ]
        }
      ]
    },
    {
      "cell_type": "code",
      "source": [
        "age = 18\n",
        "s = '성인' if age >= 20 else '미성년자'\n",
        "print(s)"
      ],
      "metadata": {
        "colab": {
          "base_uri": "https://localhost:8080/"
        },
        "id": "MVlha-MDXmFB",
        "outputId": "8ccf871b-1dd1-4f0e-ffe4-65c40065639d"
      },
      "execution_count": 8,
      "outputs": [
        {
          "output_type": "stream",
          "name": "stdout",
          "text": [
            "미성년자\n"
          ]
        }
      ]
    },
    {
      "cell_type": "code",
      "source": [
        "age = 20\n",
        "s = '성인' if age >= 20 else '미성년자'\n",
        "print(s)"
      ],
      "metadata": {
        "colab": {
          "base_uri": "https://localhost:8080/"
        },
        "id": "wmpabSmtXqyZ",
        "outputId": "e0ab3986-68f5-419d-d30b-bb0fac643f4b"
      },
      "execution_count": 9,
      "outputs": [
        {
          "output_type": "stream",
          "name": "stdout",
          "text": [
            "성인\n"
          ]
        }
      ]
    },
    {
      "cell_type": "code",
      "source": [
        "point = 92\n",
        "if (90 <= point):\n",
        "    print(\"A\")\n",
        "elif (80 <= point):\n",
        "    print(\"B\")\n",
        "elif (70 <= point):\n",
        "    print(\"C\")\n",
        "elif (60 <= point):\n",
        "    print(\"D\")\n",
        "else:\n",
        "    print(\"F\")"
      ],
      "metadata": {
        "colab": {
          "base_uri": "https://localhost:8080/"
        },
        "id": "ctozopbdXs89",
        "outputId": "b765f89d-c475-4a09-8590-596ff1532942"
      },
      "execution_count": 10,
      "outputs": [
        {
          "output_type": "stream",
          "name": "stdout",
          "text": [
            "A\n"
          ]
        }
      ]
    },
    {
      "cell_type": "code",
      "source": [
        "point = 62\n",
        "if 90 <= point:\n",
        "    print(\"A\")\n",
        "elif 80 <= point:\n",
        "    print(\"B\")\n",
        "elif 70 <= point:\n",
        "    print(\"C\")\n",
        "elif 60 <= point:\n",
        "    print(\"D\")\n",
        "else:\n",
        "    print(\"F\")"
      ],
      "metadata": {
        "colab": {
          "base_uri": "https://localhost:8080/"
        },
        "id": "n7QZjU2bYAWM",
        "outputId": "664cbd59-d08d-4828-df9f-c546377f5d5a"
      },
      "execution_count": 11,
      "outputs": [
        {
          "output_type": "stream",
          "name": "stdout",
          "text": [
            "D\n"
          ]
        }
      ]
    },
    {
      "cell_type": "code",
      "source": [
        "value = \"apple\"\n",
        "match value:\n",
        "  case 'apple':\n",
        "    result = '사과'\n",
        "  case 'banana':\n",
        "    result = '바나나'\n",
        "print(result)"
      ],
      "metadata": {
        "colab": {
          "base_uri": "https://localhost:8080/"
        },
        "id": "VJKsvepTYF2P",
        "outputId": "fc60c0eb-aa5e-4e11-d315-4510076b5284"
      },
      "execution_count": 19,
      "outputs": [
        {
          "output_type": "stream",
          "name": "stdout",
          "text": [
            "사과\n"
          ]
        }
      ]
    },
    {
      "cell_type": "code",
      "source": [
        "value = \"banana\"\n",
        "match value:\n",
        "  case 'apple':\n",
        "    result = '사과'\n",
        "  case 'banana':\n",
        "    result = '바나나'\n",
        "print(result)"
      ],
      "metadata": {
        "colab": {
          "base_uri": "https://localhost:8080/"
        },
        "id": "neCm9rvyZOJc",
        "outputId": "9c76a37a-7619-4970-d182-dceb9958c644"
      },
      "execution_count": 21,
      "outputs": [
        {
          "output_type": "stream",
          "name": "stdout",
          "text": [
            "바나나\n"
          ]
        }
      ]
    },
    {
      "cell_type": "code",
      "source": [
        "for x in range(1, 6):\n",
        "  print(x)"
      ],
      "metadata": {
        "colab": {
          "base_uri": "https://localhost:8080/"
        },
        "id": "XzEH4pQMZXYp",
        "outputId": "32d1abd0-0ed8-4529-99e0-55535e0f5ca6"
      },
      "execution_count": 23,
      "outputs": [
        {
          "output_type": "stream",
          "name": "stdout",
          "text": [
            "1\n",
            "2\n",
            "3\n",
            "4\n",
            "5\n"
          ]
        }
      ]
    },
    {
      "cell_type": "code",
      "source": [],
      "metadata": {
        "id": "t2XalZxTZbdk"
      },
      "execution_count": null,
      "outputs": []
    }
  ]
}